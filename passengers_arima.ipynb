{
 "cells": [
  {
   "cell_type": "markdown",
   "metadata": {
    "tags": []
   },
   "source": [
    "# TIMESERIES FORECASTING - Autoregressive Integrated Moving Average (ARIMA)\n"
   ]
  },
  {
   "cell_type": "markdown",
   "metadata": {
    "tags": []
   },
   "source": [
    "## Install and import libraries\n",
    "---\n",
    "This exercise requires the `pdarima` library, which can be installed with Python's `pip` command. This command only needs to be done once per machine.\n",
    "\n",
    "The standard, shorter approach may work:"
   ]
  },
  {
   "cell_type": "code",
   "execution_count": null,
   "metadata": {},
   "outputs": [],
   "source": [
    "# pip install pmdarima --user"
   ]
  },
  {
   "cell_type": "markdown",
   "metadata": {},
   "source": [
    "If the above command didn't work, it may be necessary to be more explicit, in which case you could run the code below."
   ]
  },
  {
   "cell_type": "code",
   "execution_count": null,
   "metadata": {},
   "outputs": [],
   "source": [
    "# import sys\n",
    "# !{sys.executable} -m pip install pmdarima --user"
   ]
  },
  {
   "cell_type": "markdown",
   "metadata": {},
   "source": [
    "Once `pdarima` is installed, then load the libraries below."
   ]
  },
  {
   "cell_type": "code",
   "execution_count": null,
   "metadata": {},
   "outputs": [],
   "source": [
    "import pandas as pd\n",
    "import numpy as np\n",
    "from scipy import stats                                 # needed for z-score\n",
    "from matplotlib import pyplot as plt\n",
    "from matplotlib.dates import DateFormatter\n",
    "import statsmodels.api as sm\n",
    "from statsmodels.graphics.tsaplots import plot_acf\n",
    "from statsmodels.stats.diagnostic import acorr_ljungbox\n",
    "from pmdarima.arima import auto_arima"
   ]
  },
  {
   "cell_type": "markdown",
   "metadata": {},
   "source": [
    "## Load and prepare data\n",
    "---"
   ]
  },
  {
   "cell_type": "code",
   "execution_count": null,
   "metadata": {},
   "outputs": [],
   "source": [
    "df = pd.read_csv('../datasets/airpassengers.csv', parse_dates=['Month'], index_col=['Month'])"
   ]
  },
  {
   "cell_type": "markdown",
   "metadata": {},
   "source": [
    "## Plot data\n",
    "---"
   ]
  },
  {
   "cell_type": "code",
   "execution_count": null,
   "metadata": {},
   "outputs": [],
   "source": [
    "fig, ax = plt.subplots()\n",
    "plt.xlabel('Year: 1949-1960')\n",
    "plt.ylabel('Monthly Passengers (1000s)')\n",
    "plt.title('Monthly International Air Passengers')\n",
    "plt.plot(df, color='black')\n",
    "ax.xaxis.set_major_formatter(DateFormatter('%Y'))"
   ]
  },
  {
   "cell_type": "markdown",
   "metadata": {},
   "source": [
    "## Split data into train and test set\n",
    "---"
   ]
  },
  {
   "cell_type": "markdown",
   "metadata": {},
   "source": [
    "### Create Training Dataset"
   ]
  },
  {
   "cell_type": "code",
   "execution_count": null,
   "metadata": {},
   "outputs": [],
   "source": [
    "# Select data from before 1958.\n",
    "\n",
    "train = df.loc[df.index < '1958-01-01']\n"
   ]
  },
  {
   "cell_type": "code",
   "execution_count": null,
   "metadata": {},
   "outputs": [],
   "source": [
    "# Plot the training data\n",
    "\n",
    "fig, ax = plt.subplots()\n",
    "plt.xlabel('Year: 1949-1957')\n",
    "plt.ylabel('Monthly Passengers (1000s)')\n",
    "plt.title('Monthly International Air Passengers')\n",
    "plt.plot(train, color='black')\n",
    "ax.xaxis.set_major_formatter(DateFormatter('%Y'))"
   ]
  },
  {
   "cell_type": "markdown",
   "metadata": {},
   "source": [
    "### Create Testing Dataset"
   ]
  },
  {
   "cell_type": "code",
   "execution_count": null,
   "metadata": {},
   "outputs": [],
   "source": [
    "# Use data from 1958 through 1960 (the last three years) for testing.\n",
    "\n",
    "test = df.loc[df.index >= '1958-01-01']"
   ]
  },
  {
   "cell_type": "code",
   "execution_count": null,
   "metadata": {},
   "outputs": [],
   "source": [
    "# Plot the testing data.\n",
    "# Note that the vertical scale changes from the previous graph.\n",
    "\n",
    "fig, ax = plt.subplots()\n",
    "plt.xlabel('Year: 1958-1960')\n",
    "plt.ylabel('Monthly Passengers (1000s)')\n",
    "plt.title('Monthly InInternational Air Passengers')\n",
    "plt.plot(test, color='black')\n",
    "ax.xaxis.set_major_formatter(DateFormatter('%Y'))"
   ]
  },
  {
   "cell_type": "markdown",
   "metadata": {},
   "source": [
    "## Prepare the model\n",
    "---"
   ]
  },
  {
   "cell_type": "code",
   "execution_count": null,
   "metadata": {},
   "outputs": [],
   "source": [
    "# Test Stationarity\n",
    "train_acf = plot_acf(train, lags=24)"
   ]
  },
  {
   "cell_type": "markdown",
   "metadata": {},
   "source": [
    "### Linear Model"
   ]
  },
  {
   "cell_type": "code",
   "execution_count": null,
   "metadata": {},
   "outputs": [],
   "source": [
    "lr = sm.OLS(endog=train['#Passengers'], exog=sm.add_constant(np.arange(1, 1 + train.shape[0]))).fit() \n",
    "print(lr.summary())"
   ]
  },
  {
   "cell_type": "code",
   "execution_count": null,
   "metadata": {},
   "outputs": [],
   "source": [
    "# Extract the fitted values.\n",
    "y_hat = lr.fittedvalues"
   ]
  },
  {
   "cell_type": "code",
   "execution_count": null,
   "metadata": {},
   "outputs": [],
   "source": [
    "# Extract the 95% prediction interval.\n",
    "y_ci = lr.get_prediction().conf_int(alpha=0.05)"
   ]
  },
  {
   "cell_type": "code",
   "execution_count": null,
   "metadata": {},
   "outputs": [],
   "source": [
    "# Graph time series with linear regression line and corresponding 95% confidence interval.\n",
    "fig, ax = plt.subplots()\n",
    "plt.xlabel('Year: 1949-1957')\n",
    "plt.ylabel('Monthly Passengers (1000s)')\n",
    "plt.title('Monthly International Air Passengers')\n",
    "plt.plot(train, color='black', label='Training Data')\n",
    "plt.plot(y_hat, color='blue', label='Linear Regression Line')\n",
    "plt.fill_between(y_hat.index, y_ci[:, 0], y_ci[:, 1], color='green', alpha=0.5, label='95% Conf. Int.')\n",
    "plt.legend(bbox_to_anchor=(1.05, 1))\n",
    "ax.xaxis.set_major_formatter(DateFormatter('%Y'))"
   ]
  },
  {
   "cell_type": "markdown",
   "metadata": {},
   "source": [
    "## ARIMA: Train model\n",
    "---"
   ]
  },
  {
   "cell_type": "code",
   "execution_count": null,
   "metadata": {},
   "outputs": [],
   "source": [
    "auto_arima_model = auto_arima(train, m=12, with_intercept=False, suppress_warnings=True)\n",
    "print(auto_arima_model.summary())"
   ]
  },
  {
   "cell_type": "code",
   "execution_count": null,
   "metadata": {},
   "outputs": [],
   "source": [
    "# Extract the residuals. \n",
    "resid = auto_arima_model.resid()"
   ]
  },
  {
   "cell_type": "code",
   "execution_count": null,
   "metadata": {},
   "outputs": [],
   "source": [
    "# Plot the standardized residuals.\n",
    "fig, ax = plt.subplots()\n",
    "plt.plot(train.index, stats.zscore(resid), color='gray') \n",
    "plt.title('Standardized Residuals')\n",
    "plt.xlabel('Year: 1949-1957')\n",
    "ax.xaxis.set_major_formatter(DateFormatter('%Y'))"
   ]
  },
  {
   "cell_type": "code",
   "execution_count": null,
   "metadata": {},
   "outputs": [],
   "source": [
    "# Plot the ACF (autocorrelation function) of the residuals. \n",
    "res_acf = plot_acf(resid, lags=24)"
   ]
  },
  {
   "cell_type": "markdown",
   "metadata": {},
   "source": [
    "## Test the model\n",
    "---"
   ]
  },
  {
   "cell_type": "code",
   "execution_count": null,
   "metadata": {},
   "outputs": [],
   "source": [
    "# Fit the best model to the training data.\n",
    "auto_arima_model.fit(train)"
   ]
  },
  {
   "cell_type": "code",
   "execution_count": null,
   "metadata": {},
   "outputs": [],
   "source": [
    "# Use the model to predict intervals for last three years.\n",
    "# That is, apply the model to the testing dataset.\n",
    "arima_predictions = auto_arima_model.predict(n_periods=36, alpha=0.05, return_conf_int=True)"
   ]
  },
  {
   "cell_type": "code",
   "execution_count": null,
   "metadata": {},
   "outputs": [],
   "source": [
    "# Extract the time series of model predictions.\n",
    "y_pred = pd.Series(arima_predictions[0], index=test.index)\n"
   ]
  },
  {
   "cell_type": "code",
   "execution_count": null,
   "metadata": {},
   "outputs": [],
   "source": [
    "# Extract the 95% prediction interval.\n",
    "y_pred_lb, y_pred_ub = arima_predictions[1][:, 0], arima_predictions[1][:, 1]"
   ]
  },
  {
   "cell_type": "code",
   "execution_count": null,
   "metadata": {},
   "outputs": [],
   "source": [
    "# Graph the training data (1949-1957).\n",
    "# Add the predictions for the testing data (1958-1960).\n",
    "# Add observed values from testing data.\n",
    "\n",
    "fig, ax = plt.subplots()\n",
    "plt.xlabel('Year: 1949-1960')\n",
    "plt.ylabel('Monthly Passengers (1000s)')\n",
    "plt.title('Monthly International Air Passengers')\n",
    "plt.fill_between(test.index, y_pred_lb, y_pred_ub, color='green', alpha=0.5, label='95% Conf. Int.')\n",
    "plt.plot(train, color='black', label='Training Data')\n",
    "plt.plot(test, color='blue', label='Test Data')\n",
    "plt.plot(y_pred, color='red', label='Forecast')\n",
    "plt.legend(bbox_to_anchor=(1.05, 1))\n",
    "ax.xaxis.set_major_formatter(DateFormatter('%Y'))"
   ]
  },
  {
   "cell_type": "code",
   "execution_count": null,
   "metadata": {},
   "outputs": [],
   "source": [
    "# Create a dataframe with the observed values for the testing dataset.\n",
    "# Add the predictions from the ARIMA model.\n",
    "# Add the low and high boundaries for the 95% confidence intervals.\n",
    "\n",
    "test_pred = pd.DataFrame({\n",
    "    'Actual': test.iloc[:, 0].values, \n",
    "    'Point Forecast': y_pred.values, \n",
    "    'Lo 95': y_pred_lb,\n",
    "    'Hi 95': y_pred_ub\n",
    "    }, index=test.index)"
   ]
  },
  {
   "cell_type": "code",
   "execution_count": null,
   "metadata": {},
   "outputs": [],
   "source": [
    "test_pred.head()"
   ]
  }
 ],
 "metadata": {
  "kernelspec": {
   "display_name": "Python 3 (ipykernel)",
   "language": "python",
   "name": "python3"
  },
  "language_info": {
   "codemirror_mode": {
    "name": "ipython",
    "version": 3
   },
   "file_extension": ".py",
   "mimetype": "text/x-python",
   "name": "python",
   "nbconvert_exporter": "python",
   "pygments_lexer": "ipython3",
   "version": "3.9.7"
  }
 },
 "nbformat": 4,
 "nbformat_minor": 4
}
